{
 "cells": [
  {
   "cell_type": "code",
   "execution_count": 3,
   "metadata": {
    "collapsed": false
   },
   "outputs": [],
   "source": [
    "import numpy as np\n",
    "import scipy.stats as st\n",
    "import scipy.special as sp\n",
    "import math\n",
    "import matplotlib.pyplot as plt\n",
    "from scipy.stats import invwishart\n",
    "from scipy.stats import multivariate_normal\n",
    "from numpy import matrix\n",
    "from numpy import linalg\n",
    "from numpy import arange\n",
    "from math import exp, expm1, pi,sin"
   ]
  },
  {
   "cell_type": "code",
   "execution_count": 4,
   "metadata": {
    "collapsed": false
   },
   "outputs": [],
   "source": [
    "def transmatrix(dimension):\n",
    "    Xmatrix=[]\n",
    "    if dimension==2:\n",
    "        Xmatrix=np.matrix(((1,1,1,0), (1,1,-1,0),(1,-1,0,1),(1,-1,0,-1)))\n",
    "    return Xmatrix"
   ]
  },
  {
   "cell_type": "code",
   "execution_count": 5,
   "metadata": {
    "collapsed": false
   },
   "outputs": [
    {
     "data": {
      "text/plain": [
       "matrix([[4, 0, 0, 0],\n",
       "        [0, 4, 0, 0],\n",
       "        [0, 0, 2, 0],\n",
       "        [0, 0, 0, 2]])"
      ]
     },
     "execution_count": 5,
     "metadata": {},
     "output_type": "execute_result"
    }
   ],
   "source": [
    "X=transmatrix(2)\n",
    "XT=X.transpose()\n",
    "XT*X"
   ]
  },
  {
   "cell_type": "code",
   "execution_count": 6,
   "metadata": {
    "collapsed": false
   },
   "outputs": [],
   "source": [
    "#DataX=X-coordinate values of time series data \n",
    "def SigmaGPGen(DataX):\n",
    "    dim=len(DataX)\n",
    "    SigmaGP=np.zeros((dim,dim))\n",
    "    for i in range(0,dim):\n",
    "        for j in range(0,dim):\n",
    "            SigmaGP[i,j]=exp(-0.5*(abs(DataX[i]-DataX[j])/1)**2)\n",
    "    return SigmaGP"
   ]
  },
  {
   "cell_type": "code",
   "execution_count": 7,
   "metadata": {
    "collapsed": false
   },
   "outputs": [],
   "source": [
    "def gpfunction(size):\n",
    "    x=arange(1,size+1)/size\n",
    "    y=np.sin(2*np.pi*x)\n",
    "    return y"
   ]
  },
  {
   "cell_type": "code",
   "execution_count": 8,
   "metadata": {
    "collapsed": false
   },
   "outputs": [
    {
     "data": {
      "image/png": "[encoded data removed]",
      "text/plain": [
       "<matplotlib.figure.Figure at 0x14954132860>"
      ]
     },
     "metadata": {},
     "output_type": "display_data"
    }
   ],
   "source": [
    "size=100\n",
    "plt.plot(arange(1,size+1)/size,gpfunction(size),'ro')\n",
    "plt.show()"
   ]
  },
  {
   "cell_type": "code",
   "execution_count": 18,
   "metadata": {
    "collapsed": false
   },
   "outputs": [],
   "source": [
    "############# Generate GP Data with a mean of gpfunction. Each row in output matrix is a sample ##########\n",
    "def GPDataGen(n_samples,J,plot):\n",
    "    x=arange(1,2**J+1)/(2**J)\n",
    "    Sigma=SigmaGPGen(x)\n",
    "    Data=np.zeros((n_samples,len(x)))\n",
    "    for i in range(0,(n_samples)):\n",
    "        Data[i,:]=np.random.multivariate_normal(gpfunction(2**J), Sigma, 1)\n",
    "    if plot==0:\n",
    "        return Data\n",
    "    if plot==1:\n",
    "        for i in range(0,Data.shape[0]):\n",
    "            plt.plot(x,Data[i,:],'ro')\n",
    "            plt.show()\n",
    "        "
   ]
  },
  {
   "cell_type": "code",
   "execution_count": 10,
   "metadata": {
    "collapsed": false
   },
   "outputs": [],
   "source": [
    "#####################################################################################################################\n",
    "#Drawing from Posterior\n",
    "#Sum of Squares Matrix \n",
    "def SSMatrix(Data):\n",
    "    mean=Data.mean(axis=0)\n",
    "    SS=np.zeros((Data.shape[1],Data.shape[1]))\n",
    "    for i in range(0,Data.shape[0]):\n",
    "        AddMatrix=np.outer((Data[i,:]-mean),(Data[i,:]-mean))\n",
    "        SS=SS+AddMatrix\n",
    "    return SS"
   ]
  },
  {
   "cell_type": "code",
   "execution_count": 11,
   "metadata": {
    "collapsed": true
   },
   "outputs": [],
   "source": [
    "def DrawPosteriorSigma(Data,nu_0,scale_matrix_0):\n",
    "    mean=Data.mean(axis=0)\n",
    "    SS=SSMatrix(Data)\n",
    "    n=Data.shape[0]\n",
    "    #NewParameters\n",
    "    nu_n=nu_0+n\n",
    "    scale_matrix_n=scale_matrix_0+SS+kappa_0*n/(kappa_0+n)*np.outer((mean-mu_0),(mean-mu_0))\n",
    "    return invwishart.rvs(nu_n, scale_matrix_n, size=1, random_state=None)"
   ]
  },
  {
   "cell_type": "code",
   "execution_count": 12,
   "metadata": {
    "collapsed": true
   },
   "outputs": [],
   "source": [
    "def DrawPosteriorMean(Data,mu_0,kappa_0,SigmaDrawn):\n",
    "    mean=Data.mean(axis=0)\n",
    "    SS=SSMatrix(Data)\n",
    "    n=Data.shape[0]\n",
    "    #NewParameters\n",
    "    mu_n=kappa_0/(kappa_0+n)*mu_0+n/(kappa_0+n)*mean\n",
    "    kappa_n=kappa_0+n\n",
    "    return multivariate_normal.rvs(mu_n,SigmaDrawn/kappa_n)"
   ]
  },
  {
   "cell_type": "code",
   "execution_count": 23,
   "metadata": {
    "collapsed": false
   },
   "outputs": [],
   "source": [
    "###########################Example using the functions above with J=2######################################################\n",
    "samples_drawn=100\n",
    "Datasize=100\n",
    "J=2\n",
    "def PosteriorDraw(Datasize,J,samples_drawn):\n",
    "    Data=GPDataGen(Datasize,J,0)\n",
    "    #Parameters\n",
    "    nu_0=Data.shape[1]+1 #df=dimension of data+1\n",
    "    scale_matrix_0=np.identity(Data.shape[1]) #scale matrix set to identity matrix \n",
    "    mu_0=np.array([0]*Data.shape[1]) #Prior mean set to 0 vector\n",
    "    kappa_0=0 #Number of prior measurements \n",
    "    sigma_squared=0.01**2 #noise \n",
    "    #Draw Sigma and Mu (mean)\n",
    "    Total_SigmaStar_Drawn=[]\n",
    "    Total_MuStar_Drawn=[]\n",
    "    for i in range(0,samples_drawn):\n",
    "        SigmaDrawn=DrawPosteriorSigma(Data,nu_0,scale_matrix_0)\n",
    "        print(SigmaDrawn)\n",
    "        MeanDrawn=DrawPosteriorMean(Data,mu_0,kappa_0,SigmaDrawn)\n",
    "        #Convert Sigma and Mu to Sigma_star and Mu_Star\n",
    "        X=transmatrix(J)\n",
    "        XT=X.transpose()\n",
    "        Total_MuStar_Drawn.append(np.dot(linalg.inv(X),MeanDrawn))\n",
    "        Total_SigmaStar_Drawn.append(np.dot(np.dot(linalg.inv(XT),(SigmaDrawn-np.identity(Data.shape[1])*sigma_squared)),linalg.inv(X)))\n",
    "    return(Total_MuStar_Drawn,Total_SigmaStar_Drawn)\n"
   ]
  },
  {
   "cell_type": "code",
   "execution_count": 21,
   "metadata": {
    "collapsed": false
   },
   "outputs": [
    {
     "name": "stdout",
     "output_type": "stream",
     "text": [
      "[[ 0.89021079  0.87455131  0.80148261  0.70100664]\n",
      " [ 0.87455131  0.92857572  0.89243488  0.81965374]\n",
      " [ 0.80148261  0.89243488  0.92056261  0.88087431]\n",
      " [ 0.70100664  0.81965374  0.88087431  0.9009109 ]]\n",
      "[[ 1.31967648  1.22948533  1.10149693  0.94294597]\n",
      " [ 1.22948533  1.22030314  1.14324784  1.01697976]\n",
      " [ 1.10149693  1.14324784  1.14000096  1.0576385 ]\n",
      " [ 0.94294597  1.01697976  1.0576385   1.05148512]]\n",
      "[[ 1.24814882  1.19507342  1.07378477  0.91002152]\n",
      " [ 1.19507342  1.21887486  1.15128636  1.03077378]\n",
      " [ 1.07378477  1.15128636  1.18517578  1.12216212]\n",
      " [ 0.91002152  1.03077378  1.12216212  1.15077702]]\n",
      "[[ 1.23229352  1.19133299  1.06219338  0.92709441]\n",
      " [ 1.19133299  1.24814057  1.1766593   1.09109238]\n",
      " [ 1.06219338  1.1766593   1.20193969  1.17013538]\n",
      " [ 0.92709441  1.09109238  1.17013538  1.21167789]]\n",
      "[[ 1.13669775  1.08789236  0.92221523  0.74770879]\n",
      " [ 1.08789236  1.11714267  1.00355674  0.86986094]\n",
      " [ 0.92221523  1.00355674  0.990801    0.91256864]\n",
      " [ 0.74770879  0.86986094  0.91256864  0.91984781]]\n",
      "[[ 1.51623864  1.4490018   1.31934872  1.05968036]\n",
      " [ 1.4490018   1.46062565  1.36973861  1.15992807]\n",
      " [ 1.31934872  1.36973861  1.35422785  1.19895133]\n",
      " [ 1.05968036  1.15992807  1.19895133  1.15786303]]\n",
      "[[ 1.34012207  1.22461153  1.04408991  0.80410219]\n",
      " [ 1.22461153  1.20375134  1.0844415   0.90929728]\n",
      " [ 1.04408991  1.0844415   1.06892597  0.97414496]\n",
      " [ 0.80410219  0.90929728  0.97414496  1.01365232]]\n",
      "[[ 1.4014121   1.3410886   1.17149951  0.95479509]\n",
      " [ 1.3410886   1.37121729  1.25318981  1.09547054]\n",
      " [ 1.17149951  1.25318981  1.23034937  1.14727941]\n",
      " [ 0.95479509  1.09547054  1.14727941  1.18298471]]\n",
      "[[ 0.98273543  0.92289661  0.81771942  0.68003859]\n",
      " [ 0.92289661  0.92323341  0.85709747  0.76198205]\n",
      " [ 0.81771942  0.85709747  0.86466709  0.82001785]\n",
      " [ 0.68003859  0.76198205  0.82001785  0.87278746]]\n",
      "[[ 1.22013676  1.2427735   1.14690123  0.98754612]\n",
      " [ 1.2427735   1.34727408  1.28754349  1.16984277]\n",
      " [ 1.14690123  1.28754349  1.30035477  1.23571493]\n",
      " [ 0.98754612  1.16984277  1.23571493  1.28330247]]\n",
      "[[ 1.18932817  1.08849416  0.98446833  0.8044061 ]\n",
      " [ 1.08849416  1.04133756  0.96358985  0.81354667]\n",
      " [ 0.98446833  0.96358985  0.96009022  0.85352388]\n",
      " [ 0.8044061   0.81354667  0.85352388  0.82779442]]\n",
      "[[ 1.23848366  1.13775105  0.97568334  0.77060663]\n",
      " [ 1.13775105  1.11085098  0.99849111  0.83977551]\n",
      " [ 0.97568334  0.99849111  0.97079252  0.86834995]\n",
      " [ 0.77060663  0.83977551  0.86834995  0.85077734]]\n",
      "[[ 1.1702962   1.14922865  1.05531314  0.91656972]\n",
      " [ 1.14922865  1.21762349  1.17292832  1.08982009]\n",
      " [ 1.05531314  1.17292832  1.21008986  1.18718879]\n",
      " [ 0.91656972  1.08982009  1.18718879  1.25997717]]\n",
      "[[ 1.35262736  1.30377979  1.17565577  0.95022015]\n",
      " [ 1.30377979  1.33811947  1.24412106  1.05250204]\n",
      " [ 1.17565577  1.24412106  1.22417684  1.08607822]\n",
      " [ 0.95022015  1.05250204  1.08607822  1.05166625]]\n",
      "[[ 1.07849494  1.02925759  0.93670016  0.77652474]\n",
      " [ 1.02925759  1.05792007  1.01325265  0.89390942]\n",
      " [ 0.93670016  1.01325265  1.06462454  0.99456916]\n",
      " [ 0.77652474  0.89390942  0.99456916  1.00460507]]\n",
      "[[ 1.28424299  1.20225916  1.0775171   0.86074283]\n",
      " [ 1.20225916  1.19661675  1.11634516  0.9429948 ]\n",
      " [ 1.0775171   1.11634516  1.11073695  0.99255581]\n",
      " [ 0.86074283  0.9429948   0.99255581  0.97044837]]\n",
      "[[ 0.80845543  0.76755975  0.67148632  0.53378049]\n",
      " [ 0.76755975  0.81578395  0.76137736  0.6591203 ]\n",
      " [ 0.67148632  0.76137736  0.79586919  0.7462326 ]\n",
      " [ 0.53378049  0.6591203   0.7462326   0.78420538]]\n",
      "[[ 1.39909323  1.39497302  1.29131578  1.14972074]\n",
      " [ 1.39497302  1.47065274  1.41599807  1.30590946]\n",
      " [ 1.29131578  1.41599807  1.45248581  1.39235335]\n",
      " [ 1.14972074  1.30590946  1.39235335  1.40988376]]\n",
      "[[ 1.2235784   1.20611165  1.08920897  0.91620953]\n",
      " [ 1.20611165  1.24644734  1.16136071  1.01224035]\n",
      " [ 1.08920897  1.16136071  1.15220953  1.05082827]\n",
      " [ 0.91620953  1.01224035  1.05082827  1.03302698]]\n",
      "[[ 1.51561239  1.45727808  1.3524718   1.13451986]\n",
      " [ 1.45727808  1.46163164  1.3815488   1.18621496]\n",
      " [ 1.3524718   1.3815488   1.36179148  1.20730746]\n",
      " [ 1.13451986  1.18621496  1.20730746  1.14482133]]\n",
      "[[ 1.26162586  1.22297614  1.09516833  0.93557728]\n",
      " [ 1.22297614  1.25706678  1.16028244  1.03888788]\n",
      " [ 1.09516833  1.16028244  1.13617138  1.06212804]\n",
      " [ 0.93557728  1.03888788  1.06212804  1.08874893]]\n",
      "[[ 1.26316929  1.14737916  1.01107326  0.8504182 ]\n",
      " [ 1.14737916  1.11038552  1.02056698  0.9073329 ]\n",
      " [ 1.01107326  1.02056698  1.013857    0.94235516]\n",
      " [ 0.8504182   0.9073329   0.94235516  0.95907996]]\n",
      "[[ 0.96736271  0.94614515  0.87370601  0.75385468]\n",
      " [ 0.94614515  0.9983606   0.96575076  0.88411351]\n",
      " [ 0.87370601  0.96575076  1.02533069  0.9924479 ]\n",
      " [ 0.75385468  0.88411351  0.9924479   1.03788365]]\n",
      "[[ 0.99652339  0.91735842  0.78511214  0.62429197]\n",
      " [ 0.91735842  0.91706204  0.82639851  0.7047599 ]\n",
      " [ 0.78511214  0.82639851  0.82040483  0.74645469]\n",
      " [ 0.62429197  0.7047599   0.74645469  0.74969361]]\n",
      "[[ 1.42233849  1.30983268  1.11251416  0.87142854]\n",
      " [ 1.30983268  1.27475786  1.13382824  0.95489836]\n",
      " [ 1.11251416  1.13382824  1.08929692  0.99116827]\n",
      " [ 0.87142854  0.95489836  0.99116827  1.01194382]]\n",
      "[[ 1.06204104  1.01880486  0.92604191  0.77629797]\n",
      " [ 1.01880486  1.05896581  1.01293443  0.90661897]\n",
      " [ 0.92604191  1.01293443  1.04519024  0.99031348]\n",
      " [ 0.77629797  0.90661897  0.99031348  1.02110369]]\n",
      "[[ 1.08749465  1.04559917  0.94681714  0.79354526]\n",
      " [ 1.04559917  1.06981967  1.00354643  0.88307212]\n",
      " [ 0.94681714  1.00354643  0.99704579  0.91504381]\n",
      " [ 0.79354526  0.88307212  0.91504381  0.91025448]]\n",
      "[[ 1.24371307  1.193673    1.06886728  0.85322565]\n",
      " [ 1.193673    1.21894171  1.12958808  0.9591583 ]\n",
      " [ 1.06886728  1.12958808  1.1108853   0.99751728]\n",
      " [ 0.85322565  0.9591583   0.99751728  0.99072201]]\n",
      "[[ 1.2720569   1.2288528   1.11762584  0.94146386]\n",
      " [ 1.2288528   1.24758906  1.1677261   1.03897882]\n",
      " [ 1.11762584  1.1677261   1.15434746  1.07309928]\n",
      " [ 0.94146386  1.03897882  1.07309928  1.08627899]]\n",
      "[[ 1.0617047   1.00643292  0.85428501  0.69696779]\n",
      " [ 1.00643292  1.01779059  0.9097293   0.79123075]\n",
      " [ 0.85428501  0.9097293   0.88723789  0.82794523]\n",
      " [ 0.69696779  0.79123075  0.82794523  0.85444242]]\n",
      "[[ 1.25054647  1.17417404  1.06208315  0.90565893]\n",
      " [ 1.17417404  1.16744747  1.09598657  0.9836218 ]\n",
      " [ 1.06208315  1.09598657  1.09144549  1.02218998]\n",
      " [ 0.90565893  0.9836218   1.02218998  1.05088595]]\n",
      "[[ 0.98109166  0.91963656  0.81225198  0.66540569]\n",
      " [ 0.91963656  0.92183017  0.84341923  0.72755135]\n",
      " [ 0.81225198  0.84341923  0.84566966  0.77703652]\n",
      " [ 0.66540569  0.72755135  0.77703652  0.79101071]]\n",
      "[[ 1.15893307  1.08181792  0.95896124  0.81338808]\n",
      " [ 1.08181792  1.07236492  0.98328408  0.86936597]\n",
      " [ 0.95896124  0.98328408  0.96242071  0.89217142]\n",
      " [ 0.81338808  0.86936597  0.89217142  0.89724813]]\n",
      "[[ 0.95466589  0.90071994  0.80261574  0.63872278]\n",
      " [ 0.90071994  0.90351718  0.8423446   0.72351791]\n",
      " [ 0.80261574  0.8423446   0.8642725   0.79487884]\n",
      " [ 0.63872278  0.72351791  0.79487884  0.82860519]]\n",
      "[[ 1.14424828  1.12753699  1.0080543   0.84712048]\n",
      " [ 1.12753699  1.18269532  1.09807947  0.97396408]\n",
      " [ 1.0080543   1.09807947  1.09429161  1.02339489]\n",
      " [ 0.84712048  0.97396408  1.02339489  1.03482329]]\n",
      "[[ 1.48647553  1.40779182  1.23831222  0.99612491]\n",
      " [ 1.40779182  1.40711915  1.28241306  1.09236662]\n",
      " [ 1.23831222  1.28241306  1.23988416  1.11436675]\n",
      " [ 0.99612491  1.09236662  1.11436675  1.09385892]]\n",
      "[[ 1.08402561  1.0471402   0.91479205  0.74721226]\n",
      " [ 1.0471402   1.07597857  0.97865272  0.83855065]\n",
      " [ 0.91479205  0.97865272  0.96213045  0.87487666]\n",
      " [ 0.74721226  0.83855065  0.87487666  0.87761694]]\n",
      "[[ 1.33939874  1.25999375  1.07861662  0.84800033]\n",
      " [ 1.25999375  1.26426418  1.12635106  0.9405869 ]\n",
      " [ 1.07861662  1.12635106  1.07796908  0.94733128]\n",
      " [ 0.84800033  0.9405869   0.94733128  0.91172366]]\n",
      "[[ 1.19115988  1.11872172  0.95056838  0.73610094]\n",
      " [ 1.11872172  1.12253531  1.00507228  0.8374838 ]\n",
      " [ 0.95056838  1.00507228  0.98494564  0.88960645]\n",
      " [ 0.73610094  0.8374838   0.88960645  0.90906526]]\n",
      "[[ 1.2258311   1.13285712  0.95515527  0.7416178 ]\n",
      " [ 1.13285712  1.11720117  0.98307887  0.81124264]\n",
      " [ 0.95515527  0.98307887  0.93339881  0.82318787]\n",
      " [ 0.7416178   0.81124264  0.82318787  0.81811513]]\n",
      "[[ 1.1397434   1.1041801   1.05231298  0.94170168]\n",
      " [ 1.1041801   1.1333622   1.10804561  1.01776149]\n",
      " [ 1.05231298  1.10804561  1.14168056  1.08665169]\n",
      " [ 0.94170168  1.01776149  1.08665169  1.10335726]]\n",
      "[[ 1.01209653  0.98049329  0.86854451  0.69126547]\n",
      " [ 0.98049329  1.03672514  0.97544719  0.85318907]\n",
      " [ 0.86854451  0.97544719  1.00583741  0.95177875]\n",
      " [ 0.69126547  0.85318907  0.95177875  1.00952038]]\n",
      "[[ 1.02862608  0.94488387  0.80749637  0.63842811]\n",
      " [ 0.94488387  0.9651919   0.88695975  0.76291393]\n",
      " [ 0.80749637  0.88695975  0.89974478  0.82347139]\n",
      " [ 0.63842811  0.76291393  0.82347139  0.84272917]]\n",
      "[[ 1.12376527  1.11844175  0.99195941  0.84533607]\n",
      " [ 1.11844175  1.18635284  1.09372723  0.98521737]\n",
      " [ 0.99195941  1.09372723  1.08037005  1.03078699]\n",
      " [ 0.84533607  0.98521737  1.03078699  1.07427701]]\n",
      "[[ 1.10402103  1.08118947  0.96331258  0.88390216]\n",
      " [ 1.08118947  1.1288883   1.04611984  1.00270355]\n",
      " [ 0.96331258  1.04611984  1.03500728  1.02421778]\n",
      " [ 0.88390216  1.00270355  1.02421778  1.07990251]]\n",
      "[[ 1.19239977  1.17556416  1.08957612  0.92899221]\n",
      " [ 1.17556416  1.24076381  1.20512019  1.08416104]\n",
      " [ 1.08957612  1.20512019  1.26010983  1.18451102]\n",
      " [ 0.92899221  1.08416104  1.18451102  1.19075692]]\n",
      "[[ 1.18846825  1.12805765  1.06139489  0.91710284]\n",
      " [ 1.12805765  1.12914278  1.09667973  0.994223  ]\n",
      " [ 1.06139489  1.09667973  1.14306096  1.08836177]\n",
      " [ 0.91710284  0.994223    1.08836177  1.13680978]]\n",
      "[[ 1.21698358  1.1714229   1.08454512  0.89057757]\n",
      " [ 1.1714229   1.19214898  1.14787608  0.99735688]\n",
      " [ 1.08454512  1.14787608  1.18676815  1.08618342]\n",
      " [ 0.89057757  0.99735688  1.08618342  1.08109638]]\n",
      "[[ 1.32379565  1.26309376  1.14067663  0.96755081]\n",
      " [ 1.26309376  1.27017258  1.1893622   1.05497206]\n",
      " [ 1.14067663  1.1893622   1.1850517   1.10229647]\n",
      " [ 0.96755081  1.05497206  1.10229647  1.1125543 ]]\n",
      "[[ 1.37132164  1.36725087  1.23673804  1.06239825]\n",
      " [ 1.36725087  1.43584925  1.33785441  1.19408638]\n",
      " [ 1.23673804  1.33785441  1.31160391  1.21979532]\n",
      " [ 1.06239825  1.19408638  1.21979532  1.21189447]]\n",
      "[[ 0.95806392  0.92186672  0.8364619   0.70350242]\n",
      " [ 0.92186672  0.95788628  0.91129909  0.81163768]\n",
      " [ 0.8364619   0.91129909  0.95554432  0.8925363 ]\n",
      " [ 0.70350242  0.81163768  0.8925363   0.90225374]]\n",
      "[[ 1.14053422  1.08730123  0.99881617  0.82546855]\n",
      " [ 1.08730123  1.11303148  1.06913504  0.93651976]\n",
      " [ 0.99881617  1.06913504  1.09501477  1.0065906 ]\n",
      " [ 0.82546855  0.93651976  1.0065906   1.00658247]]\n",
      "[[ 1.44715681  1.42982883  1.33343744  1.16099357]\n",
      " [ 1.42982883  1.49734236  1.44111839  1.31122094]\n",
      " [ 1.33343744  1.44111839  1.46150592  1.37855251]\n",
      " [ 1.16099357  1.31122094  1.37855251  1.39359954]]\n",
      "[[ 1.13493885  1.10492351  1.0081414   0.86996566]\n",
      " [ 1.10492351  1.15246     1.0979108   0.99172384]\n",
      " [ 1.0081414   1.0979108   1.11815051  1.05000383]\n",
      " [ 0.86996566  0.99172384  1.05000383  1.04788027]]\n",
      "[[ 1.24093766  1.16107408  0.96724764  0.74571447]\n",
      " [ 1.16107408  1.18107014  1.06337895  0.89881361]\n",
      " [ 0.96724764  1.06337895  1.08505644  1.01210654]\n",
      " [ 0.74571447  0.89881361  1.01210654  1.04488853]]\n",
      "[[ 1.25838857  1.20045247  1.07404647  0.90944794]\n",
      " [ 1.20045247  1.2117291   1.1293896   1.00923207]\n",
      " [ 1.07404647  1.1293896   1.12707505  1.06337508]\n",
      " [ 0.90944794  1.00923207  1.06337508  1.09489282]]\n",
      "[[ 1.03601549  1.02457217  0.93720249  0.7968837 ]\n",
      " [ 1.02457217  1.07858474  1.02326213  0.91375818]\n",
      " [ 0.93720249  1.02326213  1.03923217  0.96832737]\n",
      " [ 0.7968837   0.91375818  0.96832737  0.96340226]]\n",
      "[[ 1.26297826  1.16178949  0.98556559  0.73210002]\n",
      " [ 1.16178949  1.13643458  1.0184591   0.81803619]\n",
      " [ 0.98556559  1.0184591   1.00922626  0.88409739]\n",
      " [ 0.73210002  0.81803619  0.88409739  0.87291442]]\n",
      "[[ 1.14878536  1.15139471  1.10566557  0.97819642]\n",
      " [ 1.15139471  1.21388338  1.20922734  1.11262702]\n",
      " [ 1.10566557  1.20922734  1.28735577  1.23227683]\n",
      " [ 0.97819642  1.11262702  1.23227683  1.25002712]]\n",
      "[[ 1.14615138  1.09838131  0.99578149  0.82352133]\n",
      " [ 1.09838131  1.13327716  1.08573842  0.96799898]\n",
      " [ 0.99578149  1.08573842  1.13513692  1.09317237]\n",
      " [ 0.82352133  0.96799898  1.09317237  1.1670973 ]]\n",
      "[[ 1.08728764  1.05862298  0.95557058  0.80355861]\n",
      " [ 1.05862298  1.08867783  1.02146515  0.90135238]\n",
      " [ 0.95557058  1.02146515  1.03400898  0.96138672]\n",
      " [ 0.80355861  0.90135238  0.96138672  0.96558272]]\n",
      "[[ 1.17607941  1.12693962  0.98968372  0.79707805]\n",
      " [ 1.12693962  1.14466144  1.04080478  0.88600356]\n",
      " [ 0.98968372  1.04080478  1.02656002  0.93247296]\n",
      " [ 0.79707805  0.88600356  0.93247296  0.93585199]]\n",
      "[[ 1.03012041  0.96303976  0.80380332  0.60536708]\n",
      " [ 0.96303976  0.95804387  0.83552353  0.6764635 ]\n",
      " [ 0.80380332  0.83552353  0.79727012  0.68449329]\n",
      " [ 0.60536708  0.6764635   0.68449329  0.66802165]]\n",
      "[[ 1.45022481  1.36444331  1.19396184  0.92406817]\n",
      " [ 1.36444331  1.34725271  1.2221802   0.99503414]\n",
      " [ 1.19396184  1.2221802   1.177564    1.00619819]\n",
      " [ 0.92406817  0.99503414  1.00619819  0.94322759]]\n",
      "[[ 1.17686268  1.09787964  0.93215024  0.74961493]\n",
      " [ 1.09787964  1.08127753  0.96011747  0.82639281]\n",
      " [ 0.93215024  0.96011747  0.9373624   0.87545775]\n",
      " [ 0.74961493  0.82639281  0.87545775  0.92030653]]\n",
      "[[ 1.16196212  1.12859742  0.97303545  0.81492944]\n",
      " [ 1.12859742  1.171839    1.06488086  0.94657519]\n",
      " [ 0.97303545  1.06488086  1.04595708  0.98076333]\n",
      " [ 0.81492944  0.94657519  0.98076333  1.00915579]]\n",
      "[[ 1.40508439  1.36230407  1.21059442  1.0033579 ]\n",
      " [ 1.36230407  1.3981333   1.29353161  1.13257573]\n",
      " [ 1.21059442  1.29353161  1.27724679  1.17461156]\n",
      " [ 1.0033579   1.13257573  1.17461156  1.18314109]]\n",
      "[[ 1.3264911   1.24339307  1.0685618   0.89052268]\n",
      " [ 1.24339307  1.24258364  1.11919009  0.97934662]\n",
      " [ 1.0685618   1.11919009  1.10570663  1.02657457]\n",
      " [ 0.89052268  0.97934662  1.02657457  1.02677973]]\n",
      "[[ 1.38117177  1.29928433  1.15988318  0.93212469]\n",
      " [ 1.29928433  1.31083414  1.22284559  1.04871061]\n",
      " [ 1.15988318  1.22284559  1.23200325  1.11491962]\n",
      " [ 0.93212469  1.04871061  1.11491962  1.09639337]]\n",
      "[[ 1.24877872  1.16226803  0.99397557  0.81264109]\n",
      " [ 1.16226803  1.15033549  1.04373931  0.90907526]\n",
      " [ 0.99397557  1.04373931  1.04765086  0.97612264]\n",
      " [ 0.81264109  0.90907526  0.97612264  0.99920164]]\n",
      "[[ 1.22825421  1.14120496  1.01105494  0.80717741]\n",
      " [ 1.14120496  1.13121065  1.04263029  0.88375427]\n",
      " [ 1.01105494  1.04263029  1.02813232  0.92724633]\n",
      " [ 0.80717741  0.88375427  0.92724633  0.93452668]]\n",
      "[[ 1.10689663  1.06014849  0.93021548  0.75152198]\n",
      " [ 1.06014849  1.09619046  1.01125464  0.87907117]\n",
      " [ 0.93021548  1.01125464  1.00554084  0.93380184]\n",
      " [ 0.75152198  0.87907117  0.93380184  0.96337414]]\n",
      "[[ 1.12083974  1.03879765  0.94035635  0.74149287]\n",
      " [ 1.03879765  1.03679201  0.97069877  0.8185358 ]\n",
      " [ 0.94035635  0.97069877  0.97783035  0.87102824]\n",
      " [ 0.74149287  0.8185358   0.87102824  0.86688438]]\n",
      "[[ 1.40288097  1.38876099  1.22021063  1.01459347]\n",
      " [ 1.38876099  1.43046482  1.29540062  1.11824065]\n",
      " [ 1.22021063  1.29540062  1.24582557  1.12410108]\n",
      " [ 1.01459347  1.11824065  1.12410108  1.09134129]]\n",
      "[[ 1.28215597  1.2147201   1.10913119  0.90001753]\n",
      " [ 1.2147201   1.22033263  1.15852996  0.99070284]\n",
      " [ 1.10913119  1.15852996  1.1793758   1.05692221]\n",
      " [ 0.90001753  0.99070284  1.05692221  1.02194305]]\n",
      "[[ 1.20089998  1.11357662  0.97436085  0.74780519]\n",
      " [ 1.11357662  1.10912493  1.01266161  0.83416959]\n",
      " [ 0.97436085  1.01266161  0.99120933  0.86646326]\n",
      " [ 0.74780519  0.83416959  0.86646326  0.8482342 ]]\n",
      "[[ 1.11174577  1.06228397  0.92652206  0.80248495]\n",
      " [ 1.06228397  1.08075222  0.98134193  0.89323383]\n",
      " [ 0.92652206  0.98134193  0.97067893  0.94105846]\n",
      " [ 0.80248495  0.89323383  0.94105846  1.00127934]]\n",
      "[[ 1.20237361  1.11753255  1.00351381  0.84458989]\n",
      " [ 1.11753255  1.10744124  1.03547413  0.91496253]\n",
      " [ 1.00351381  1.03547413  1.0404568   0.97273842]\n",
      " [ 0.84458989  0.91496253  0.97273842  0.99180052]]\n",
      "[[ 1.21533679  1.16504039  1.02086135  0.83223285]\n",
      " [ 1.16504039  1.18960171  1.09141666  0.94205289]\n",
      " [ 1.02086135  1.09141666  1.07504928  0.98087662]\n",
      " [ 0.83223285  0.94205289  0.98087662  1.00841596]]\n",
      "[[ 1.15088674  1.09199095  0.96215387  0.76665838]\n",
      " [ 1.09199095  1.10897047  1.03443983  0.88186504]\n",
      " [ 0.96215387  1.03443983  1.0646247   0.97810045]\n",
      " [ 0.76665838  0.88186504  0.97810045  0.99408714]]\n",
      "[[ 0.75596632  0.69397247  0.59587138  0.46663849]\n",
      " [ 0.69397247  0.71899408  0.67324392  0.58783894]\n",
      " [ 0.59587138  0.67324392  0.71834467  0.68694362]\n",
      " [ 0.46663849  0.58783894  0.68694362  0.74052502]]\n",
      "[[ 1.14153458  1.1081926   1.01505746  0.87844461]\n",
      " [ 1.1081926   1.13587473  1.07669942  0.97699864]\n",
      " [ 1.01505746  1.07669942  1.08920168  1.03258757]\n",
      " [ 0.87844461  0.97699864  1.03258757  1.06789429]]\n",
      "[[ 1.34290045  1.26617403  1.13958137  0.91189793]\n",
      " [ 1.26617403  1.26315872  1.18522236  1.0111096 ]\n",
      " [ 1.13958137  1.18522236  1.19991584  1.08511074]\n",
      " [ 0.91189793  1.0111096   1.08511074  1.0817941 ]]\n",
      "[[ 1.25561386  1.14817371  0.96395582  0.77380681]\n",
      " [ 1.14817371  1.12756366  1.00121713  0.87539216]\n",
      " [ 0.96395582  1.00121713  0.98031521  0.92019175]\n",
      " [ 0.77380681  0.87539216  0.92019175  0.95942386]]\n",
      "[[ 1.25007859  1.1937313   1.0841811   0.91690151]\n",
      " [ 1.1937313   1.20212383  1.12862959  0.99157638]\n",
      " [ 1.0841811   1.12862959  1.12652303  1.03173792]\n",
      " [ 0.91690151  0.99157638  1.03173792  1.02125117]]\n",
      "[[ 1.16452384  1.12687257  1.00320266  0.8184166 ]\n",
      " [ 1.12687257  1.16636153  1.08733814  0.94490376]\n",
      " [ 1.00320266  1.08733814  1.10443767  1.01975425]\n",
      " [ 0.8184166   0.94490376  1.01975425  1.0267087 ]]\n",
      "[[ 1.30081486  1.27636481  1.1845019   1.02764374]\n",
      " [ 1.27636481  1.32445851  1.27709443  1.16795561]\n",
      " [ 1.1845019   1.27709443  1.30781082  1.25317696]\n",
      " [ 1.02764374  1.16795561  1.25317696  1.29885977]]\n",
      "[[ 1.35201876  1.26582018  1.20745925  1.01235385]\n",
      " [ 1.26582018  1.2502319   1.22623787  1.06770881]\n",
      " [ 1.20745925  1.22623787  1.26626455  1.14111626]\n",
      " [ 1.01235385  1.06770881  1.14111626  1.10611777]]\n",
      "[[ 0.99907463  0.93893733  0.8187587   0.66623584]\n",
      " [ 0.93893733  0.95344891  0.87503448  0.77039781]\n",
      " [ 0.8187587   0.87503448  0.87473664  0.81893815]\n",
      " [ 0.66623584  0.77039781  0.81893815  0.8607049 ]]\n",
      "[[ 1.19033348  1.11784512  1.0008564   0.80779684]\n",
      " [ 1.11784512  1.120942    1.03806343  0.88556896]\n",
      " [ 1.0008564   1.03806343  1.0227026   0.91369166]\n",
      " [ 0.80779684  0.88556896  0.91369166  0.89185117]]\n",
      "[[ 1.11492817  1.03641332  0.86485131  0.71605094]\n",
      " [ 1.03641332  1.03462006  0.90179239  0.79174446]\n",
      " [ 0.86485131  0.90179239  0.87942809  0.82130896]\n",
      " [ 0.71605094  0.79174446  0.82130896  0.83781427]]\n",
      "[[ 1.15498146  1.08457005  0.90571709  0.669658  ]\n",
      " [ 1.08457005  1.0837128   0.95288426  0.74705175]\n",
      " [ 0.90571709  0.95288426  0.92878443  0.78321329]\n",
      " [ 0.669658    0.74705175  0.78321329  0.75600985]]\n",
      "[[ 1.20836031  1.14911655  0.97315086  0.7761654 ]\n",
      " [ 1.14911655  1.14984362  1.01283246  0.84762304]\n",
      " [ 0.97315086  1.01283246  0.98769547  0.8866644 ]\n",
      " [ 0.7761654   0.84762304  0.8866644   0.88387239]]\n",
      "[[ 1.22466548  1.20246078  1.1320644   0.96885699]\n",
      " [ 1.20246078  1.25231175  1.21126659  1.08510079]\n",
      " [ 1.1320644   1.21126659  1.23146959  1.14127606]\n",
      " [ 0.96885699  1.08510079  1.14127606  1.13777908]]\n",
      "[[ 1.02909809  0.97137216  0.8762261   0.74015289]\n",
      " [ 0.97137216  0.97994611  0.91908989  0.82395995]\n",
      " [ 0.8762261   0.91908989  0.92270459  0.87023167]\n",
      " [ 0.74015289  0.82395995  0.87023167  0.9027823 ]]\n",
      "[[ 1.17818495  1.13408848  1.0129416   0.84049893]\n",
      " [ 1.13408848  1.15322561  1.06013527  0.92524787]\n",
      " [ 1.0129416   1.06013527  1.02407363  0.92275798]\n",
      " [ 0.84049893  0.92524787  0.92275798  0.91004066]]\n",
      "[[ 0.95596984  0.94923657  0.88654118  0.75078263]\n",
      " [ 0.94923657  1.01055252  0.98567474  0.87490389]\n",
      " [ 0.88654118  0.98567474  1.02380485  0.95158693]\n",
      " [ 0.75078263  0.87490389  0.95158693  0.94766676]]\n",
      "[[ 1.04598     1.01133275  0.89771291  0.71667017]\n",
      " [ 1.01133275  1.05884526  0.99678207  0.85830846]\n",
      " [ 0.89771291  0.99678207  1.02939352  0.94623551]\n",
      " [ 0.71667017  0.85830846  0.94623551  0.96164868]]\n",
      "[[ 1.19427138  1.15512844  1.01837672  0.85246565]\n",
      " [ 1.15512844  1.18196792  1.08440793  0.954695  ]\n",
      " [ 1.01837672  1.08440793  1.08005233  0.99961557]\n",
      " [ 0.85246565  0.954695    0.99961557  1.00471614]]\n",
      "[[ 1.01981567  0.9806782   0.85296103  0.69165576]\n",
      " [ 0.9806782   1.01765879  0.94038809  0.8387213 ]\n",
      " [ 0.85296103  0.94038809  0.95836873  0.92303976]\n",
      " [ 0.69165576  0.8387213   0.92303976  0.9935761 ]]\n"
     ]
    },
    {
     "ename": "SyntaxError",
     "evalue": "'return' outside function (<ipython-input-21-3888a8b448c5>, line 24)",
     "output_type": "error",
     "traceback": [
      "\u001b[0;36m  File \u001b[0;32m\"<ipython-input-21-3888a8b448c5>\"\u001b[0;36m, line \u001b[0;32m24\u001b[0m\n\u001b[0;31m    return(Total_MuStar_Drawn,Total_SigmaStar_Drawn)\u001b[0m\n\u001b[0m                                                    ^\u001b[0m\n\u001b[0;31mSyntaxError\u001b[0m\u001b[0;31m:\u001b[0m 'return' outside function\n"
     ]
    }
   ],
   "source": [
    "###########################Example using the functions above with J=2######################################################\n",
    "samples_drawn=100\n",
    "Datasize=100\n",
    "J=2\n",
    "Data=GPDataGen(Datasize,J,0)\n",
    "#Parameters\n",
    "nu_0=Data.shape[1]+1 #df=dimension of data+1\n",
    "scale_matrix_0=np.identity(Data.shape[1]) #scale matrix set to identity matrix \n",
    "mu_0=np.array([0]*Data.shape[1]) #Prior mean set to 0 vector\n",
    "kappa_0=0 #Number of prior measurements \n",
    "sigma_squared=0.01**2 #noise \n",
    "#Draw Sigma and Mu (mean)\n",
    "Total_SigmaStar_Drawn=[]\n",
    "Total_MuStar_Drawn=[]\n",
    "for i in range(0,samples_drawn):\n",
    "    SigmaDrawn=DrawPosteriorSigma(Data,nu_0,scale_matrix_0)\n",
    "    print(SigmaDrawn)\n",
    "    MeanDrawn=DrawPosteriorMean(Data,mu_0,kappa_0,SigmaDrawn)\n",
    "    #Convert Sigma and Mu to Sigma_star and Mu_Star\n",
    "    X=transmatrix(J)\n",
    "    XT=X.transpose()\n",
    "    Total_MuStar_Drawn.append(np.dot(linalg.inv(X),MeanDrawn))\n",
    "    Total_SigmaStar_Drawn.append(np.dot(np.dot(linalg.inv(XT),(SigmaDrawn-np.identity(Data.shape[1])*sigma_squared)),linalg.inv(X)))\n",
    "return(Total_MuStar_Drawn,Total_SigmaStar_Drawn)\n"
   ]
  },
  {
   "cell_type": "code",
   "execution_count": 14,
   "metadata": {
    "collapsed": false
   },
   "outputs": [
    {
     "ename": "NameError",
     "evalue": "name 'kappa_0' is not defined",
     "output_type": "error",
     "traceback": [
      "\u001b[0;31m---------------------------------------------------------------------------\u001b[0m",
      "\u001b[0;31mNameError\u001b[0m                                 Traceback (most recent call last)",
      "\u001b[0;32m<ipython-input-14-c5fedb6b11d2>\u001b[0m in \u001b[0;36m<module>\u001b[0;34m()\u001b[0m\n\u001b[0;32m----> 1\u001b[0;31m \u001b[0mPosteriorDraw\u001b[0m\u001b[1;33m(\u001b[0m\u001b[0mDatasize\u001b[0m\u001b[1;33m,\u001b[0m\u001b[0mJ\u001b[0m\u001b[1;33m,\u001b[0m\u001b[0msamples_drawn\u001b[0m\u001b[1;33m)\u001b[0m\u001b[1;33m\u001b[0m\u001b[0m\n\u001b[0m",
      "\u001b[0;32m<ipython-input-13-45df665b0618>\u001b[0m in \u001b[0;36mPosteriorDraw\u001b[0;34m(Datasize, J, samples_drawn)\u001b[0m\n\u001b[1;32m     15\u001b[0m     \u001b[0mTotal_MuStar_Drawn\u001b[0m\u001b[1;33m=\u001b[0m\u001b[1;33m[\u001b[0m\u001b[1;33m]\u001b[0m\u001b[1;33m\u001b[0m\u001b[0m\n\u001b[1;32m     16\u001b[0m     \u001b[1;32mfor\u001b[0m \u001b[0mi\u001b[0m \u001b[1;32min\u001b[0m \u001b[0mrange\u001b[0m\u001b[1;33m(\u001b[0m\u001b[1;36m0\u001b[0m\u001b[1;33m,\u001b[0m\u001b[0msamples_drawn\u001b[0m\u001b[1;33m)\u001b[0m\u001b[1;33m:\u001b[0m\u001b[1;33m\u001b[0m\u001b[0m\n\u001b[0;32m---> 17\u001b[0;31m         \u001b[0mSigmaDrawn\u001b[0m\u001b[1;33m=\u001b[0m\u001b[0mDrawPosteriorSigma\u001b[0m\u001b[1;33m(\u001b[0m\u001b[0mData\u001b[0m\u001b[1;33m,\u001b[0m\u001b[0mnu_0\u001b[0m\u001b[1;33m,\u001b[0m\u001b[0mscale_matrix_0\u001b[0m\u001b[1;33m)\u001b[0m\u001b[1;33m\u001b[0m\u001b[0m\n\u001b[0m\u001b[1;32m     18\u001b[0m         \u001b[0mprint\u001b[0m\u001b[1;33m(\u001b[0m\u001b[0mSigmaDrawn\u001b[0m\u001b[1;33m)\u001b[0m\u001b[1;33m\u001b[0m\u001b[0m\n\u001b[1;32m     19\u001b[0m         \u001b[0mMeanDrawn\u001b[0m\u001b[1;33m=\u001b[0m\u001b[0mDrawPosteriorMean\u001b[0m\u001b[1;33m(\u001b[0m\u001b[0mData\u001b[0m\u001b[1;33m,\u001b[0m\u001b[0mmu_0\u001b[0m\u001b[1;33m,\u001b[0m\u001b[0mkappa_0\u001b[0m\u001b[1;33m,\u001b[0m\u001b[0mSigmaDrawn\u001b[0m\u001b[1;33m)\u001b[0m\u001b[1;33m\u001b[0m\u001b[0m\n",
      "\u001b[0;32m<ipython-input-11-b91fd7aed666>\u001b[0m in \u001b[0;36mDrawPosteriorSigma\u001b[0;34m(Data, nu_0, scale_matrix_0)\u001b[0m\n\u001b[1;32m      5\u001b[0m     \u001b[1;31m#NewParameters\u001b[0m\u001b[1;33m\u001b[0m\u001b[1;33m\u001b[0m\u001b[0m\n\u001b[1;32m      6\u001b[0m     \u001b[0mnu_n\u001b[0m\u001b[1;33m=\u001b[0m\u001b[0mnu_0\u001b[0m\u001b[1;33m+\u001b[0m\u001b[0mn\u001b[0m\u001b[1;33m\u001b[0m\u001b[0m\n\u001b[0;32m----> 7\u001b[0;31m     \u001b[0mscale_matrix_n\u001b[0m\u001b[1;33m=\u001b[0m\u001b[0mscale_matrix_0\u001b[0m\u001b[1;33m+\u001b[0m\u001b[0mSS\u001b[0m\u001b[1;33m+\u001b[0m\u001b[0mkappa_0\u001b[0m\u001b[1;33m*\u001b[0m\u001b[0mn\u001b[0m\u001b[1;33m/\u001b[0m\u001b[1;33m(\u001b[0m\u001b[0mkappa_0\u001b[0m\u001b[1;33m+\u001b[0m\u001b[0mn\u001b[0m\u001b[1;33m)\u001b[0m\u001b[1;33m*\u001b[0m\u001b[0mnp\u001b[0m\u001b[1;33m.\u001b[0m\u001b[0mouter\u001b[0m\u001b[1;33m(\u001b[0m\u001b[1;33m(\u001b[0m\u001b[0mmean\u001b[0m\u001b[1;33m-\u001b[0m\u001b[0mmu_0\u001b[0m\u001b[1;33m)\u001b[0m\u001b[1;33m,\u001b[0m\u001b[1;33m(\u001b[0m\u001b[0mmean\u001b[0m\u001b[1;33m-\u001b[0m\u001b[0mmu_0\u001b[0m\u001b[1;33m)\u001b[0m\u001b[1;33m)\u001b[0m\u001b[1;33m\u001b[0m\u001b[0m\n\u001b[0m\u001b[1;32m      8\u001b[0m     \u001b[1;32mreturn\u001b[0m \u001b[0minvwishart\u001b[0m\u001b[1;33m.\u001b[0m\u001b[0mrvs\u001b[0m\u001b[1;33m(\u001b[0m\u001b[0mnu_n\u001b[0m\u001b[1;33m,\u001b[0m \u001b[0mscale_matrix_n\u001b[0m\u001b[1;33m,\u001b[0m \u001b[0msize\u001b[0m\u001b[1;33m=\u001b[0m\u001b[1;36m1\u001b[0m\u001b[1;33m,\u001b[0m \u001b[0mrandom_state\u001b[0m\u001b[1;33m=\u001b[0m\u001b[1;32mNone\u001b[0m\u001b[1;33m)\u001b[0m\u001b[1;33m\u001b[0m\u001b[0m\n",
      "\u001b[0;31mNameError\u001b[0m: name 'kappa_0' is not defined"
     ]
    }
   ],
   "source": [
    "PosteriorDraw(Datasize,J,samples_drawn)"
   ]
  },
  {
   "cell_type": "code",
   "execution_count": 15,
   "metadata": {
    "collapsed": false
   },
   "outputs": [
    {
     "ename": "NameError",
     "evalue": "name 'MeanDrawn' is not defined",
     "output_type": "error",
     "traceback": [
      "\u001b[0;31m---------------------------------------------------------------------------\u001b[0m",
      "\u001b[0;31mNameError\u001b[0m                                 Traceback (most recent call last)",
      "\u001b[0;32m<ipython-input-15-281faf446c12>\u001b[0m in \u001b[0;36m<module>\u001b[0;34m()\u001b[0m\n\u001b[1;32m      1\u001b[0m \u001b[1;31m##############################Sampling the Data using the posterior samples for Mu and Sigma###################\u001b[0m\u001b[1;33m\u001b[0m\u001b[1;33m\u001b[0m\u001b[0m\n\u001b[1;32m      2\u001b[0m \u001b[1;33m\u001b[0m\u001b[0m\n\u001b[0;32m----> 3\u001b[0;31m \u001b[0mDataDrawn\u001b[0m\u001b[1;33m=\u001b[0m\u001b[0mmultivariate_normal\u001b[0m\u001b[1;33m.\u001b[0m\u001b[0mrvs\u001b[0m\u001b[1;33m(\u001b[0m\u001b[0mMeanDrawn\u001b[0m\u001b[1;33m,\u001b[0m\u001b[0mSigmaDrawn\u001b[0m\u001b[1;33m,\u001b[0m\u001b[0msize\u001b[0m\u001b[1;33m=\u001b[0m\u001b[1;36m5\u001b[0m\u001b[1;33m,\u001b[0m \u001b[0mrandom_state\u001b[0m\u001b[1;33m=\u001b[0m\u001b[1;32mNone\u001b[0m\u001b[1;33m)\u001b[0m\u001b[1;33m\u001b[0m\u001b[0m\n\u001b[0m\u001b[1;32m      4\u001b[0m \u001b[0mJ\u001b[0m\u001b[1;33m=\u001b[0m\u001b[1;36m2\u001b[0m\u001b[1;33m\u001b[0m\u001b[0m\n\u001b[1;32m      5\u001b[0m \u001b[0mx\u001b[0m\u001b[1;33m=\u001b[0m\u001b[0marange\u001b[0m\u001b[1;33m(\u001b[0m\u001b[1;36m1\u001b[0m\u001b[1;33m,\u001b[0m\u001b[1;36m2\u001b[0m\u001b[1;33m**\u001b[0m\u001b[0mJ\u001b[0m\u001b[1;33m+\u001b[0m\u001b[1;36m1\u001b[0m\u001b[1;33m)\u001b[0m\u001b[1;33m/\u001b[0m\u001b[1;33m(\u001b[0m\u001b[1;36m2\u001b[0m\u001b[1;33m**\u001b[0m\u001b[0mJ\u001b[0m\u001b[1;33m)\u001b[0m\u001b[1;33m\u001b[0m\u001b[0m\n",
      "\u001b[0;31mNameError\u001b[0m: name 'MeanDrawn' is not defined"
     ]
    }
   ],
   "source": [
    "##############################Sampling the Data using the posterior samples for Mu and Sigma###################\n",
    "\n",
    "DataDrawn=multivariate_normal.rvs(MeanDrawn,SigmaDrawn,size=5, random_state=None)\n",
    "J=2\n",
    "x=arange(1,2**J+1)/(2**J)\n",
    "for i in range(0,DataDrawn.shape[0]):\n",
    "    plt.plot(x,DataDrawn[i,:],'ro')\n",
    "    plt.show()                        "
   ]
  },
  {
   "cell_type": "code",
   "execution_count": 23,
   "metadata": {
    "collapsed": false
   },
   "outputs": [
    {
     "data": {
      "text/plain": [
       "array([[-0.25821856, -1.22962553, -1.7625888 ,  0.03323939],\n",
       "       [ 0.20490261, -1.03721394, -2.24753433, -1.01693628],\n",
       "       [ 0.8492656 , -0.37468644, -1.40057043, -0.65377938],\n",
       "       [ 0.12186466, -1.24448294, -2.03907781, -0.83772988],\n",
       "       [ 1.46227526,  0.14288613, -0.39632877,  1.0380118 ]])"
      ]
     },
     "execution_count": 23,
     "metadata": {},
     "output_type": "execute_result"
    }
   ],
   "source": [
    "DataDrawn"
   ]
  },
  {
   "cell_type": "code",
   "execution_count": 15,
   "metadata": {
    "collapsed": false
   },
   "outputs": [
    {
     "ename": "SyntaxError",
     "evalue": "invalid syntax (<ipython-input-15-ac789b0643bd>, line 20)",
     "output_type": "error",
     "traceback": [
      "\u001b[0;36m  File \u001b[0;32m\"<ipython-input-15-ac789b0643bd>\"\u001b[0;36m, line \u001b[0;32m20\u001b[0m\n\u001b[0;31m    initscale[1]=\u001b[0m\n\u001b[0m                 ^\u001b[0m\n\u001b[0;31mSyntaxError\u001b[0m\u001b[0;31m:\u001b[0m invalid syntax\n"
     ]
    }
   ],
   "source": [
    "#######################################################################################\n",
    "##Metropolis Hastings\n",
    "def MHAlg(Data,n): #n=number of iterations\n",
    "    n_samples=Data.shape[0] #Number of rows of data=number of samples\n",
    "    n_datap=Data.shape[1] #Number of columns=number of data points\n",
    "    res=int(math.log(n_datap)/math.log(2)) #resolution\n",
    "    initscale=np.array([0]*n)\n",
    "    loglike=np.array([0]*n)\n",
    "    logprior=np.array([0]*n)\n",
    "    logp=np.array([0]*n)\n",
    "    theta=np.array([0]*n)\n",
    "    detail_coef=[np.array([[0]*n])]\n",
    "    for i in range(1,J):\n",
    "        appendmatrix=np.array([[0]*n]*(2**i))\n",
    "        detail_coef.append(appendmatrix)\n",
    "    #detail_coef_star\n",
    "    detail_coef_star=detail_coef\n",
    "    detail_coef_means=detail_coef\n",
    "    #Start values for coefficients, i.e. mu_star(iteration 1)\n",
    "    initscale[1]=##RNORMGENERATE\n",
    "    for j in range(0,res):\n",
    "        for k in range(0,2**(j)):\n",
    "            detail_coef[j][k,1]=##RNORM generate\n",
    "    #Start value for covariance matrix i.e. Sigma_Star \n",
    "    \n",
    "    #calculate log like\n",
    "    coeffvec=[]\n",
    "    for j in range(0,res):\n",
    "        coeffvec=[np.array([detail_coef[0][:,1]])]\n",
    "        coeffvec.append(detail_coef[j][:,1])\n",
    "    \n",
    "                \n",
    "        "
   ]
  },
  {
   "cell_type": "code",
   "execution_count": 21,
   "metadata": {
    "collapsed": false
   },
   "outputs": [
    {
     "data": {
      "text/plain": [
       "array([[0, 0],\n",
       "       [0, 0]])"
      ]
     },
     "execution_count": 21,
     "metadata": {},
     "output_type": "execute_result"
    }
   ],
   "source": [
    "detail_coef=[np.array([[0]*2]*1)]\n",
    "A=np.array([[0]*2]*2)\n",
    "detail_coef.append(A)\n",
    "detail_coef[1][:,1] #indexing. "
   ]
  },
  {
   "cell_type": "code",
   "execution_count": 223,
   "metadata": {
    "collapsed": false
   },
   "outputs": [],
   "source": [
    "MHAlg(Data,2)"
   ]
  },
  {
   "cell_type": "code",
   "execution_count": 211,
   "metadata": {
    "collapsed": false
   },
   "outputs": [
    {
     "data": {
      "text/plain": [
       "array([[0, 0, 0, 0, 0]])"
      ]
     },
     "execution_count": 211,
     "metadata": {},
     "output_type": "execute_result"
    }
   ],
   "source": [
    "detail_coef[0]"
   ]
  },
  {
   "cell_type": "code",
   "execution_count": 32,
   "metadata": {
    "collapsed": true
   },
   "outputs": [],
   "source": [
    "a=[np.identity(2)]\n",
    "b=a*2\n",
    "c=a*3\n",
    "d=np.identity(3)"
   ]
  },
  {
   "cell_type": "code",
   "execution_count": 182,
   "metadata": {
    "collapsed": false
   },
   "outputs": [],
   "source": [
    "a.append(d)"
   ]
  },
  {
   "cell_type": "code",
   "execution_count": 183,
   "metadata": {
    "collapsed": false
   },
   "outputs": [
    {
     "data": {
      "text/plain": [
       "[array([[ 1.,  0.],\n",
       "        [ 0.,  1.]]), array([[ 1.,  0.,  0.],\n",
       "        [ 0.,  1.,  0.],\n",
       "        [ 0.,  0.,  1.]])]"
      ]
     },
     "execution_count": 183,
     "metadata": {},
     "output_type": "execute_result"
    }
   ],
   "source": [
    "a"
   ]
  },
  {
   "cell_type": "code",
   "execution_count": 123,
   "metadata": {
    "collapsed": false
   },
   "outputs": [
    {
     "data": {
      "text/plain": [
       "array([[ 1.,  0.,  0.],\n",
       "       [ 0.,  1.,  0.],\n",
       "       [ 0.,  0.,  1.]])"
      ]
     },
     "execution_count": 123,
     "metadata": {},
     "output_type": "execute_result"
    }
   ],
   "source": [
    "a[1]"
   ]
  },
  {
   "cell_type": "code",
   "execution_count": 127,
   "metadata": {
    "collapsed": false
   },
   "outputs": [
    {
     "data": {
      "text/plain": [
       "0.0"
      ]
     },
     "execution_count": 127,
     "metadata": {},
     "output_type": "execute_result"
    }
   ],
   "source": [
    "a[0][0,1]"
   ]
  },
  {
   "cell_type": "code",
   "execution_count": 35,
   "metadata": {
    "collapsed": false
   },
   "outputs": [],
   "source": [
    "coeffvec=[]"
   ]
  },
  {
   "cell_type": "code",
   "execution_count": 36,
   "metadata": {
    "collapsed": false
   },
   "outputs": [],
   "source": [
    "coeffvec.append(a)"
   ]
  },
  {
   "cell_type": "code",
   "execution_count": 37,
   "metadata": {
    "collapsed": false
   },
   "outputs": [
    {
     "data": {
      "text/plain": [
       "[[array([[ 1.,  0.],\n",
       "         [ 0.,  1.]])]]"
      ]
     },
     "execution_count": 37,
     "metadata": {},
     "output_type": "execute_result"
    }
   ],
   "source": [
    "coeffvec"
   ]
  },
  {
   "cell_type": "code",
   "execution_count": null,
   "metadata": {
    "collapsed": true
   },
   "outputs": [],
   "source": []
  }
 ],
 "metadata": {
  "anaconda-cloud": {},
  "kernelspec": {
   "display_name": "Python [default]",
   "language": "python",
   "name": "python3"
  },
  "language_info": {
   "codemirror_mode": {
    "name": "ipython",
    "version": 3
   },
   "file_extension": ".py",
   "mimetype": "text/x-python",
   "name": "python",
   "nbconvert_exporter": "python",
   "pygments_lexer": "ipython3",
   "version": "3.5.2"
  }
 },
 "nbformat": 4,
 "nbformat_minor": 1
}
